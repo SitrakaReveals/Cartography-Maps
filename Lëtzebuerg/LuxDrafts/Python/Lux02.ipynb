{
 "cells": [
  {
   "cell_type": "code",
   "execution_count": null,
   "metadata": {},
   "outputs": [],
   "source": [
    "# First, install and load the necessary libraries\n",
    "#!pip install geopandas matplotlib\n",
    "import geopandas as gpd\n",
    "import matplotlib.pyplot as plt\n",
    "\n",
    "# Next, use the geopandas.read_file function to read in a shapefile of Luxembourg\n",
    "luxembourg = gpd.read_file(\"luxembourg.shp\")\n",
    "\n",
    "# Now, create a plot using the geopandas.plot function and customize the appearance\n",
    "# of the map by setting additional options such as the fill color or line color\n",
    "luxembourg.plot(color=\"gray\")"
   ]
  },
  {
   "cell_type": "code",
   "execution_count": null,
   "metadata": {},
   "outputs": [],
   "source": [
    "# Finally, use the matplotlib.pyplot.show function to display the plot\n",
    "plt.show()"
   ]
  },
  {
   "cell_type": "code",
   "execution_count": 4,
   "metadata": {},
   "outputs": [],
   "source": [
    "\n",
    "import geopandas as gpd\n",
    "import folium\n",
    "import osmnx as ox\n",
    "import matplotlib.pyplot as plt\n",
    "from shapely.geometry import LineString, MultiLineString\n"
   ]
  },
  {
   "cell_type": "code",
   "execution_count": 5,
   "metadata": {},
   "outputs": [
    {
     "name": "stderr",
     "output_type": "stream",
     "text": [
      "/var/folders/5h/xm5lnpjd7ls_j19x9h5qz8d80000gn/T/ipykernel_53229/2068721653.py:12: FutureWarning: The `geometries` module and `geometries_from_X` functions have been renamed the `features` module and `features_from_X` functions. Use these instead. The `geometries` module and function names are deprecated and will be removed in the v2.0.0 release.\n",
      "  railways = ox.geometries_from_place(region, tags={'railway': True})\n",
      "/Library/Frameworks/Python.framework/Versions/3.12/lib/python3.12/site-packages/osmnx/_overpass.py:211: UserWarning: This area is 140,808 times your configured Overpass max query area size. It will automatically be divided up into multiple sub-queries accordingly. This may take a long time.\n",
      "  multi_poly_proj = utils_geo._consolidate_subdivide_geometry(poly_proj)\n"
     ]
    },
    {
     "ename": "KeyboardInterrupt",
     "evalue": "",
     "output_type": "error",
     "traceback": [
      "\u001b[0;31m---------------------------------------------------------------------------\u001b[0m",
      "\u001b[0;31mKeyboardInterrupt\u001b[0m                         Traceback (most recent call last)",
      "\u001b[1;32m/Users/sitrakaforler/Documents/GitHub/LLM/Cartography-Maps/Lëtzebuerg/LuxDrafts/Lux02.ipynb Cell 4\u001b[0m line \u001b[0;36m1\n\u001b[1;32m     <a href='vscode-notebook-cell:/Users/sitrakaforler/Documents/GitHub/LLM/Cartography-Maps/L%C3%ABtzebuerg/LuxDrafts/Lux02.ipynb#W2sZmlsZQ%3D%3D?line=9'>10</a>\u001b[0m \u001b[39m# Download and combine railway data for each region\u001b[39;00m\n\u001b[1;32m     <a href='vscode-notebook-cell:/Users/sitrakaforler/Documents/GitHub/LLM/Cartography-Maps/L%C3%ABtzebuerg/LuxDrafts/Lux02.ipynb#W2sZmlsZQ%3D%3D?line=10'>11</a>\u001b[0m \u001b[39mfor\u001b[39;00m region \u001b[39min\u001b[39;00m regions:\n\u001b[0;32m---> <a href='vscode-notebook-cell:/Users/sitrakaforler/Documents/GitHub/LLM/Cartography-Maps/L%C3%ABtzebuerg/LuxDrafts/Lux02.ipynb#W2sZmlsZQ%3D%3D?line=11'>12</a>\u001b[0m     railways \u001b[39m=\u001b[39m ox\u001b[39m.\u001b[39;49mgeometries_from_place(region, tags\u001b[39m=\u001b[39;49m{\u001b[39m'\u001b[39;49m\u001b[39mrailway\u001b[39;49m\u001b[39m'\u001b[39;49m: \u001b[39mTrue\u001b[39;49;00m})\n\u001b[1;32m     <a href='vscode-notebook-cell:/Users/sitrakaforler/Documents/GitHub/LLM/Cartography-Maps/L%C3%ABtzebuerg/LuxDrafts/Lux02.ipynb#W2sZmlsZQ%3D%3D?line=12'>13</a>\u001b[0m     railways \u001b[39m=\u001b[39m railways[railways[\u001b[39m'\u001b[39m\u001b[39mrailway\u001b[39m\u001b[39m'\u001b[39m]\u001b[39m.\u001b[39mnotnull()]\n\u001b[1;32m     <a href='vscode-notebook-cell:/Users/sitrakaforler/Documents/GitHub/LLM/Cartography-Maps/L%C3%ABtzebuerg/LuxDrafts/Lux02.ipynb#W2sZmlsZQ%3D%3D?line=13'>14</a>\u001b[0m     combined_railways \u001b[39m=\u001b[39m pd\u001b[39m.\u001b[39mconcat([combined_railways, railways])\n",
      "File \u001b[0;32m/Library/Frameworks/Python.framework/Versions/3.12/lib/python3.12/site-packages/osmnx/geometries.py:127\u001b[0m, in \u001b[0;36mgeometries_from_place\u001b[0;34m(query, tags, which_result, buffer_dist)\u001b[0m\n\u001b[1;32m    103\u001b[0m \u001b[39m\u001b[39m\u001b[39m\"\"\"\u001b[39;00m\n\u001b[1;32m    104\u001b[0m \u001b[39mDo not use: deprecated.\u001b[39;00m\n\u001b[1;32m    105\u001b[0m \n\u001b[0;32m   (...)\u001b[0m\n\u001b[1;32m    124\u001b[0m \u001b[39mgdf : geopandas.GeoDataFrame\u001b[39;00m\n\u001b[1;32m    125\u001b[0m \u001b[39m\"\"\"\u001b[39;00m\n\u001b[1;32m    126\u001b[0m warn(DEP_MSG, \u001b[39mFutureWarning\u001b[39;00m, stacklevel\u001b[39m=\u001b[39m\u001b[39m2\u001b[39m)\n\u001b[0;32m--> 127\u001b[0m \u001b[39mreturn\u001b[39;00m features\u001b[39m.\u001b[39;49mfeatures_from_place(query, tags, which_result, buffer_dist)\n",
      "File \u001b[0;32m/Library/Frameworks/Python.framework/Versions/3.12/lib/python3.12/site-packages/osmnx/features.py:296\u001b[0m, in \u001b[0;36mfeatures_from_place\u001b[0;34m(query, tags, which_result, buffer_dist)\u001b[0m\n\u001b[1;32m    293\u001b[0m utils\u001b[39m.\u001b[39mlog(\u001b[39m\"\u001b[39m\u001b[39mConstructed place geometry polygon(s) to query API\u001b[39m\u001b[39m\"\u001b[39m)\n\u001b[1;32m    295\u001b[0m \u001b[39m# create GeoDataFrame using this polygon(s) geometry\u001b[39;00m\n\u001b[0;32m--> 296\u001b[0m \u001b[39mreturn\u001b[39;00m features_from_polygon(polygon, tags)\n",
      "File \u001b[0;32m/Library/Frameworks/Python.framework/Versions/3.12/lib/python3.12/site-packages/osmnx/features.py:347\u001b[0m, in \u001b[0;36mfeatures_from_polygon\u001b[0;34m(polygon, tags)\u001b[0m\n\u001b[1;32m    344\u001b[0m response_jsons \u001b[39m=\u001b[39m _overpass\u001b[39m.\u001b[39m_download_overpass_features(polygon, tags)\n\u001b[1;32m    346\u001b[0m \u001b[39m# create GeoDataFrame from the downloaded data\u001b[39;00m\n\u001b[0;32m--> 347\u001b[0m \u001b[39mreturn\u001b[39;00m _create_gdf(response_jsons, polygon, tags)\n",
      "File \u001b[0;32m/Library/Frameworks/Python.framework/Versions/3.12/lib/python3.12/site-packages/osmnx/features.py:438\u001b[0m, in \u001b[0;36m_create_gdf\u001b[0;34m(response_jsons, polygon, tags)\u001b[0m\n\u001b[1;32m    435\u001b[0m relation_types \u001b[39m=\u001b[39m {\u001b[39m\"\u001b[39m\u001b[39mboundary\u001b[39m\u001b[39m\"\u001b[39m, \u001b[39m\"\u001b[39m\u001b[39mmultipolygon\u001b[39m\u001b[39m\"\u001b[39m}\n\u001b[1;32m    437\u001b[0m \u001b[39m# extract geometries from the downloaded osm data\u001b[39;00m\n\u001b[0;32m--> 438\u001b[0m \u001b[39mfor\u001b[39;49;00m response_json \u001b[39min\u001b[39;49;00m response_jsons:\n\u001b[1;32m    439\u001b[0m     response_count \u001b[39m+\u001b[39;49m\u001b[39m=\u001b[39;49m \u001b[39m1\u001b[39;49m\n\u001b[1;32m    441\u001b[0m     \u001b[39m# Parses the JSON of OSM nodes, ways and (multipolygon) relations\u001b[39;49;00m\n\u001b[1;32m    442\u001b[0m     \u001b[39m# to dictionaries of coordinates, Shapely Points, LineStrings,\u001b[39;49;00m\n\u001b[1;32m    443\u001b[0m     \u001b[39m# Polygons and MultiPolygons\u001b[39;49;00m\n",
      "File \u001b[0;32m/Library/Frameworks/Python.framework/Versions/3.12/lib/python3.12/site-packages/osmnx/_overpass.py:346\u001b[0m, in \u001b[0;36m_download_overpass_features\u001b[0;34m(polygon, tags)\u001b[0m\n\u001b[1;32m    330\u001b[0m \u001b[39m\u001b[39m\u001b[39m\"\"\"\u001b[39;00m\n\u001b[1;32m    331\u001b[0m \u001b[39mRetrieve OSM features within boundary from the Overpass API.\u001b[39;00m\n\u001b[1;32m    332\u001b[0m \n\u001b[0;32m   (...)\u001b[0m\n\u001b[1;32m    343\u001b[0m \u001b[39m    a generator of JSON responses from the Overpass server\u001b[39;00m\n\u001b[1;32m    344\u001b[0m \u001b[39m\"\"\"\u001b[39;00m\n\u001b[1;32m    345\u001b[0m \u001b[39m# subdivide query polygon to get list of sub-divided polygon coord strings\u001b[39;00m\n\u001b[0;32m--> 346\u001b[0m polygon_coord_strs \u001b[39m=\u001b[39m _make_overpass_polygon_coord_strs(polygon)\n\u001b[1;32m    347\u001b[0m utils\u001b[39m.\u001b[39mlog(\u001b[39mf\u001b[39m\u001b[39m\"\u001b[39m\u001b[39mRequesting data from API in \u001b[39m\u001b[39m{\u001b[39;00m\u001b[39mlen\u001b[39m(polygon_coord_strs)\u001b[39m}\u001b[39;00m\u001b[39m request(s)\u001b[39m\u001b[39m\"\u001b[39m)\n\u001b[1;32m    349\u001b[0m \u001b[39m# pass exterior coordinates of each polygon in list to API, one at a time\u001b[39;00m\n",
      "File \u001b[0;32m/Library/Frameworks/Python.framework/Versions/3.12/lib/python3.12/site-packages/osmnx/_overpass.py:211\u001b[0m, in \u001b[0;36m_make_overpass_polygon_coord_strs\u001b[0;34m(polygon)\u001b[0m\n\u001b[1;32m    208\u001b[0m \u001b[39m# first subdivide the polygon if its area exceeds max size\u001b[39;00m\n\u001b[1;32m    209\u001b[0m \u001b[39m# this results in a multipolygon of 1+ constituent polygons\u001b[39;00m\n\u001b[1;32m    210\u001b[0m poly_proj, crs_proj \u001b[39m=\u001b[39m projection\u001b[39m.\u001b[39mproject_geometry(polygon)\n\u001b[0;32m--> 211\u001b[0m multi_poly_proj \u001b[39m=\u001b[39m utils_geo\u001b[39m.\u001b[39;49m_consolidate_subdivide_geometry(poly_proj)\n\u001b[1;32m    212\u001b[0m multi_poly, _ \u001b[39m=\u001b[39m projection\u001b[39m.\u001b[39mproject_geometry(multi_poly_proj, crs\u001b[39m=\u001b[39mcrs_proj, to_latlong\u001b[39m=\u001b[39m\u001b[39mTrue\u001b[39;00m)\n\u001b[1;32m    214\u001b[0m \u001b[39m# then extract each's exterior coords to the string format Overpass\u001b[39;00m\n\u001b[1;32m    215\u001b[0m \u001b[39m# expects, rounding lats and lons to 6 decimals (ie, ~100 mm) so we\u001b[39;00m\n\u001b[1;32m    216\u001b[0m \u001b[39m# can hash and cache URL strings consistently\u001b[39;00m\n",
      "File \u001b[0;32m/Library/Frameworks/Python.framework/Versions/3.12/lib/python3.12/site-packages/osmnx/utils_geo.py:293\u001b[0m, in \u001b[0;36m_consolidate_subdivide_geometry\u001b[0;34m(geometry)\u001b[0m\n\u001b[1;32m    290\u001b[0m \u001b[39m# if geometry area exceeds max size, subdivide it into smaller subpolygons\u001b[39;00m\n\u001b[1;32m    291\u001b[0m \u001b[39m# that are no greater than settings.max_query_area_size in size\u001b[39;00m\n\u001b[1;32m    292\u001b[0m \u001b[39mif\u001b[39;00m geometry\u001b[39m.\u001b[39marea \u001b[39m>\u001b[39m mqas:\n\u001b[0;32m--> 293\u001b[0m     geometry \u001b[39m=\u001b[39m _quadrat_cut_geometry(geometry, quadrat_width\u001b[39m=\u001b[39;49mnp\u001b[39m.\u001b[39;49msqrt(mqas))\n\u001b[1;32m    295\u001b[0m \u001b[39mif\u001b[39;00m \u001b[39misinstance\u001b[39m(geometry, Polygon):\n\u001b[1;32m    296\u001b[0m     geometry \u001b[39m=\u001b[39m MultiPolygon([geometry])\n",
      "File \u001b[0;32m/Library/Frameworks/Python.framework/Versions/3.12/lib/python3.12/site-packages/osmnx/utils_geo.py:336\u001b[0m, in \u001b[0;36m_quadrat_cut_geometry\u001b[0;34m(geometry, quadrat_width)\u001b[0m\n\u001b[1;32m    333\u001b[0m geometries \u001b[39m=\u001b[39m [geometry]\n\u001b[1;32m    334\u001b[0m \u001b[39mfor\u001b[39;00m line \u001b[39min\u001b[39;00m lines:\n\u001b[1;32m    335\u001b[0m     \u001b[39m# split polygon by line if they intersect, otherwise just keep it\u001b[39;00m\n\u001b[0;32m--> 336\u001b[0m     split_geoms \u001b[39m=\u001b[39m [split(g, line)\u001b[39m.\u001b[39mgeoms \u001b[39mif\u001b[39;00m g\u001b[39m.\u001b[39;49mintersects(line) \u001b[39melse\u001b[39;00m [g] \u001b[39mfor\u001b[39;00m g \u001b[39min\u001b[39;00m geometries]\n\u001b[1;32m    337\u001b[0m     \u001b[39m# now flatten the list and process these split geoms on the next line in the list of lines\u001b[39;00m\n\u001b[1;32m    338\u001b[0m     geometries \u001b[39m=\u001b[39m [g \u001b[39mfor\u001b[39;00m g_list \u001b[39min\u001b[39;00m split_geoms \u001b[39mfor\u001b[39;00m g \u001b[39min\u001b[39;00m g_list]\n",
      "File \u001b[0;32m/Library/Frameworks/Python.framework/Versions/3.12/lib/python3.12/site-packages/shapely/geometry/base.py:719\u001b[0m, in \u001b[0;36mBaseGeometry.intersects\u001b[0;34m(self, other)\u001b[0m\n\u001b[1;32m    717\u001b[0m \u001b[39mdef\u001b[39;00m \u001b[39mintersects\u001b[39m(\u001b[39mself\u001b[39m, other):\n\u001b[1;32m    718\u001b[0m \u001b[39m    \u001b[39m\u001b[39m\"\"\"Returns True if geometries intersect, else False\"\"\"\u001b[39;00m\n\u001b[0;32m--> 719\u001b[0m     \u001b[39mreturn\u001b[39;00m _maybe_unpack(shapely\u001b[39m.\u001b[39;49mintersects(\u001b[39mself\u001b[39;49m, other))\n",
      "File \u001b[0;32m/Library/Frameworks/Python.framework/Versions/3.12/lib/python3.12/site-packages/shapely/decorators.py:77\u001b[0m, in \u001b[0;36mmultithreading_enabled.<locals>.wrapped\u001b[0;34m(*args, **kwargs)\u001b[0m\n\u001b[1;32m     75\u001b[0m     \u001b[39mfor\u001b[39;00m arr \u001b[39min\u001b[39;00m array_args:\n\u001b[1;32m     76\u001b[0m         arr\u001b[39m.\u001b[39mflags\u001b[39m.\u001b[39mwriteable \u001b[39m=\u001b[39m \u001b[39mFalse\u001b[39;00m\n\u001b[0;32m---> 77\u001b[0m     \u001b[39mreturn\u001b[39;00m func(\u001b[39m*\u001b[39;49margs, \u001b[39m*\u001b[39;49m\u001b[39m*\u001b[39;49mkwargs)\n\u001b[1;32m     78\u001b[0m \u001b[39mfinally\u001b[39;00m:\n\u001b[1;32m     79\u001b[0m     \u001b[39mfor\u001b[39;00m arr, old_flag \u001b[39min\u001b[39;00m \u001b[39mzip\u001b[39m(array_args, old_flags):\n",
      "File \u001b[0;32m/Library/Frameworks/Python.framework/Versions/3.12/lib/python3.12/site-packages/shapely/predicates.py:778\u001b[0m, in \u001b[0;36mintersects\u001b[0;34m(a, b, **kwargs)\u001b[0m\n\u001b[1;32m    747\u001b[0m \u001b[39m@multithreading_enabled\u001b[39m\n\u001b[1;32m    748\u001b[0m \u001b[39mdef\u001b[39;00m \u001b[39mintersects\u001b[39m(a, b, \u001b[39m*\u001b[39m\u001b[39m*\u001b[39mkwargs):\n\u001b[1;32m    749\u001b[0m \u001b[39m    \u001b[39m\u001b[39m\"\"\"Returns True if A and B share any portion of space.\u001b[39;00m\n\u001b[1;32m    750\u001b[0m \n\u001b[1;32m    751\u001b[0m \u001b[39m    Intersects implies that overlaps, touches and within are True.\u001b[39;00m\n\u001b[0;32m   (...)\u001b[0m\n\u001b[1;32m    776\u001b[0m \u001b[39m    False\u001b[39;00m\n\u001b[1;32m    777\u001b[0m \u001b[39m    \"\"\"\u001b[39;00m\n\u001b[0;32m--> 778\u001b[0m     \u001b[39mreturn\u001b[39;00m lib\u001b[39m.\u001b[39;49mintersects(a, b, \u001b[39m*\u001b[39;49m\u001b[39m*\u001b[39;49mkwargs)\n",
      "\u001b[0;31mKeyboardInterrupt\u001b[0m: "
     ]
    }
   ],
   "source": [
    "# Define the key regions in Europe\n",
    "regions = [\n",
    "    \"France\", \"Germany\", \"Italy\", \"Spain\", \"United Kingdom\", \"Netherlands\", \n",
    "    \"Belgium\", \"Switzerland\", \"Austria\", \"Poland\"\n",
    "]\n",
    "\n",
    "# Initialize an empty GeoDataFrame to store combined railway data\n",
    "combined_railways = gpd.GeoDataFrame()\n",
    "\n",
    "# Download and combine railway data for each region\n",
    "for region in regions:\n",
    "    railways = ox.geometries_from_place(region, tags={'railway': True})\n",
    "    railways = railways[railways['railway'].notnull()]\n",
    "    combined_railways = pd.concat([combined_railways, railways])\n",
    "\n",
    "# Placeholder for railway usage: randomly assign usage levels for the sake of this example\n",
    "import numpy as np\n",
    "np.random.seed(0)  # For reproducibility\n",
    "combined_railways['usage'] = np.random.choice(['High', 'Medium', 'Low'], size=len(combined_railways))\n",
    "\n",
    "# Function to assign colors based on usage\n",
    "def get_color(usage):\n",
    "    if usage == 'High':\n",
    "        return 'red'\n",
    "    elif usage == 'Medium':\n",
    "        return 'orange'\n",
    "    elif usage == 'Low':\n",
    "        return 'green'\n",
    "    else:\n",
    "        return 'blue'\n",
    "\n",
    "# Create a base map using Folium\n",
    "m = folium.Map(location=[54.5260, 15.2551], zoom_start=4)  # Centered in Europe\n",
    "\n",
    "# Function to add railways to the map with different colors\n",
    "def add_colored_railways_to_map(gdf, map_obj):\n",
    "    for _, row in gdf.iterrows():\n",
    "        if isinstance(row.geometry, (LineString, MultiLineString)):\n",
    "            color = get_color(row['usage'])\n",
    "            folium.GeoJson(\n",
    "                row.geometry,\n",
    "                style_function=lambda x, color=color: {'color': color, 'weight': 2.5},\n",
    "                name='geojson'\n",
    "            ).add_to(map_obj)\n",
    "\n",
    "# Add colored railways to the map\n",
    "add_colored_railways_to_map(combined_railways, m)\n",
    "\n",
    "# Display the map\n",
    "m.save(\"colored_railways_map.html\")\n",
    "m\n"
   ]
  }
 ],
 "metadata": {
  "kernelspec": {
   "display_name": "Python 3",
   "language": "python",
   "name": "python3"
  },
  "language_info": {
   "codemirror_mode": {
    "name": "ipython",
    "version": 3
   },
   "file_extension": ".py",
   "mimetype": "text/x-python",
   "name": "python",
   "nbconvert_exporter": "python",
   "pygments_lexer": "ipython3",
   "version": "3.12.0"
  },
  "orig_nbformat": 4
 },
 "nbformat": 4,
 "nbformat_minor": 2
}
