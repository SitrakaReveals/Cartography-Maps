{
 "cells": [
  {
   "cell_type": "code",
   "execution_count": null,
   "metadata": {},
   "outputs": [],
   "source": [
    "# First, install and load the necessary libraries\n",
    "#!pip install geopandas matplotlib\n",
    "import geopandas as gpd\n",
    "import matplotlib.pyplot as plt\n",
    "\n",
    "# Next, use the geopandas.read_file function to read in a shapefile of Luxembourg\n",
    "luxembourg = gpd.read_file(\"luxembourg.shp\")\n",
    "\n",
    "# Now, create a plot using the geopandas.plot function and customize the appearance\n",
    "# of the map by setting additional options such as the fill color or line color\n",
    "luxembourg.plot(color=\"gray\")"
   ]
  },
  {
   "cell_type": "code",
   "execution_count": null,
   "metadata": {},
   "outputs": [],
   "source": [
    "# Finally, use the matplotlib.pyplot.show function to display the plot\n",
    "plt.show()"
   ]
  }
 ],
 "metadata": {
  "language_info": {
   "name": "python"
  },
  "orig_nbformat": 4
 },
 "nbformat": 4,
 "nbformat_minor": 2
}
